{
 "cells": [
  {
   "cell_type": "code",
   "execution_count": 23,
   "metadata": {},
   "outputs": [],
   "source": [
    "import RealSense as real\n",
    "import open3d as o3d\n",
    "import numpy as np\n",
    "real = real.RealSense()\n",
    "real.initConnection()"
   ]
  },
  {
   "cell_type": "code",
   "execution_count": null,
   "metadata": {},
   "outputs": [],
   "source": []
  },
  {
   "cell_type": "code",
   "execution_count": 28,
   "metadata": {},
   "outputs": [],
   "source": [
    "#first pcd\n",
    "pic1, rbgdImage = real.getPCD()\n"
   ]
  },
  {
   "cell_type": "code",
   "execution_count": 29,
   "metadata": {},
   "outputs": [],
   "source": [
    "# second pcd and shows them together \n",
    "pic2 , rbgdImage2 = real.getPCD()\n",
    "pcds = [pic1, pic2]\n",
    "o3d.visualization.draw_geometries(pcds)"
   ]
  },
  {
   "cell_type": "code",
   "execution_count": 26,
   "metadata": {},
   "outputs": [
    {
     "name": "stdout",
     "output_type": "stream",
     "text": [
      "Downsample the point cloud with a voxel of 0.008\n"
     ]
    }
   ],
   "source": [
    "#\n",
    "print(\"Downsample the point cloud with a voxel of 0.008\")\n",
    "downpcd = pic1.voxel_down_sample(voxel_size=0.008)\n",
    "downpcd1 = pic2.voxel_down_sample(voxel_size=0.008)\n",
    "o3d.visualization.draw_geometries([downpcd,downpcd1])\n",
    "                            \n"
   ]
  },
  {
   "cell_type": "code",
   "execution_count": null,
   "metadata": {},
   "outputs": [],
   "source": [
    "############# helpful links ###################\n",
    "#https://github.com/isl-org/Open3D/issues/2380  ---Uses transformation matrix on pcd to aling with \n",
    "#https://pcl.readthedocs.io/projects/tutorials/en/latest/matrix_transform.html --- apply matrix to pcd \n",
    "#https://www.open3d.org/docs/release/python_api/open3d.camera.PinholeCameraParameters.html#open3d.camera.PinholeCameraParameters.extrinsic"
   ]
  },
  {
   "cell_type": "code",
   "execution_count": null,
   "metadata": {},
   "outputs": [],
   "source": [
    "############## Ideas ######################\n",
    "# translate each point cloud from gripper to world then merge \n",
    "#\n",
    "#"
   ]
  },
  {
   "cell_type": "code",
   "execution_count": null,
   "metadata": {},
   "outputs": [],
   "source": []
  }
 ],
 "metadata": {
  "kernelspec": {
   "display_name": "Python 3",
   "language": "python",
   "name": "python3"
  },
  "language_info": {
   "codemirror_mode": {
    "name": "ipython",
    "version": 3
   },
   "file_extension": ".py",
   "mimetype": "text/x-python",
   "name": "python",
   "nbconvert_exporter": "python",
   "pygments_lexer": "ipython3",
   "version": "3.9.18"
  }
 },
 "nbformat": 4,
 "nbformat_minor": 2
}
